{
 "cells": [
  {
   "cell_type": "code",
   "execution_count": 1,
   "metadata": {
    "colab": {
     "base_uri": "https://localhost:8080/"
    },
    "id": "a3VswpH3ftGo",
    "outputId": "646d751f-dbb9-4de5-ad18-889899a406dd"
   },
   "outputs": [],
   "source": [
    "# ! pip install sentence-splitter"
   ]
  },
  {
   "cell_type": "code",
   "execution_count": 2,
   "metadata": {
    "colab": {
     "base_uri": "https://localhost:8080/"
    },
    "id": "asu-lhsoV1KZ",
    "outputId": "3a10c57a-8254-45e2-dd51-5bb5f7c5772f"
   },
   "outputs": [],
   "source": [
    "# ! pip install transformers"
   ]
  },
  {
   "cell_type": "code",
   "execution_count": 3,
   "metadata": {
    "colab": {
     "base_uri": "https://localhost:8080/"
    },
    "id": "0oFm6iQpyMve",
    "outputId": "17771cff-a791-4015-ed0e-d3b90e362ffe"
   },
   "outputs": [],
   "source": [
    "# ! pip install SentencePiece"
   ]
  },
  {
   "cell_type": "code",
   "execution_count": 4,
   "metadata": {},
   "outputs": [],
   "source": [
    "# !pip install torch"
   ]
  },
  {
   "cell_type": "code",
   "execution_count": 26,
   "metadata": {
    "colab": {
     "base_uri": "https://localhost:8080/",
     "height": 165,
     "referenced_widgets": [
      "8f516d93300d49cbad04a67e1be9d32b",
      "580961e7e8584b868d427cf672078674",
      "704b994e029c4cdd93e0ecda3726d607",
      "4b1be8cc3c5c40ec9deeb75200a3a7f3",
      "a503070cc2a646d5879a3339cebaf3a7",
      "904e9bbc2fed482e84a02299e9762fe9",
      "a24d51573d594fb2a2cd1b3c5f8f4dd4",
      "50f97ea6b61c47b0b152a5b5fefea06a",
      "063b18d513424f1183737e93c264cb8f",
      "5d0db7a84da44349a277cba30148c4d7",
      "957e5d06b761440ab3d00478b11d547a",
      "632c106781594f1db82f272b34d3c3f4",
      "553bd1a9e5c745629a51d0b2b03bf16e",
      "2f6a0ab725334895bff8f5524a2c22f5",
      "6dcab5852f99408ba1e177185843fa6b",
      "1830e657159044b3ba9d411136f0f90d",
      "ec24a0e1eb0b4e57987d0610c2941d71",
      "501b90a0a74041189e38c080eebae9eb",
      "dc0db6639cc64b3daed8149ca090a978",
      "a35b8a96d72d4c7e881bc9a696e13835",
      "02ad3e7df3d64bbc8b1ae397e12162f3",
      "fb9c5b1db4bb49eeb640a2a24d9b17a6",
      "d1903fc67e9a4ae288ea933dc2f632d7",
      "6d323ec59a304e8abb1ed5fc58159505"
     ]
    },
    "id": "_yCRu_3CNaTE",
    "outputId": "444e39c0-ad06-4145-b7e5-ac873e44723d"
   },
   "outputs": [],
   "source": [
    "import torch\n",
    "from transformers import PegasusForConditionalGeneration, PegasusTokenizer\n",
    "\n",
    "model_name = 'shah_model'\n",
    "torch_device = 'cuda' if torch.cuda.is_available() else 'cpu'\n",
    "tokenizer = PegasusTokenizer.from_pretrained('tuner007/pegasus_paraphrase')\n",
    "model = PegasusForConditionalGeneration.from_pretrained(model_name).to(torch_device)\n",
    "\n",
    "def get_response(input_text,num_return_sequences):\n",
    "  batch = tokenizer.prepare_seq2seq_batch([input_text],truncation=True,padding='longest',max_length=60, return_tensors=\"pt\").to(torch_device)\n",
    "  translated = model.generate(**batch,max_length=60,num_beams=10, num_return_sequences=num_return_sequences, temperature=1.5)\n",
    "  tgt_text = tokenizer.batch_decode(translated, skip_special_tokens=True)\n",
    "  return tgt_text"
   ]
  },
  {
   "cell_type": "markdown",
   "metadata": {
    "id": "lva62WD3gScS"
   },
   "source": [
    "---"
   ]
  },
  {
   "cell_type": "markdown",
   "metadata": {
    "id": "HXeaFgNcTV9B",
    "tags": []
   },
   "source": [
    "## **Processing a paragraph of text**"
   ]
  },
  {
   "cell_type": "code",
   "execution_count": 27,
   "metadata": {
    "colab": {
     "base_uri": "https://localhost:8080/"
    },
    "id": "yOiKx9cPNanF",
    "outputId": "56e927c5-d1df-4d36-b327-2075bec11fe4"
   },
   "outputs": [],
   "source": [
    "# Paragraph of text\n",
    "context = \"To be clear: I’ve glamped before, and I was an asshole about it. We were invited to an AutoCamp property outside Yosemite National Park a couple years ago, but rather than focus on the sparkling white bathrooms, where I could comfortably bathe my tiny child, or the crisp bed, on which we read her stories about the granite monoliths we’d seen on the Valley floor, I lurked around the property and looked for opportunities to feel superior to my fellow glampers. One particularly shitty text to an old friend read: “I see a John Muir quote in yellow cursive neon lights. Peak irony.” My daughter, however, loved just about every minute of the trip and the comfort the amenities allowed my wife and I to relax into our first Yosemite trip as parents.\""
   ]
  },
  {
   "cell_type": "code",
   "execution_count": 28,
   "metadata": {},
   "outputs": [
    {
     "name": "stdout",
     "output_type": "stream",
     "text": [
      "To be clear: I’ve glamped before, and I was an asshole about it. We were invited to an AutoCamp property outside Yosemite National Park a couple years ago, but rather than focus on the sparkling white bathrooms, where I could comfortably bathe my tiny child, or the crisp bed, on which we read her stories about the granite monoliths we’d seen on the Valley floor, I lurked around the property and looked for opportunities to feel superior to my fellow glampers. One particularly shitty text to an old friend read: “I see a John Muir quote in yellow cursive neon lights. Peak irony.” My daughter, however, loved just about every minute of the trip and the comfort the amenities allowed my wife and I to relax into our first Yosemite trip as parents.\n"
     ]
    }
   ],
   "source": [
    "print(context)"
   ]
  },
  {
   "cell_type": "code",
   "execution_count": 29,
   "metadata": {
    "colab": {
     "base_uri": "https://localhost:8080/"
    },
    "id": "Fk-oJbtUNxkP",
    "outputId": "75a26119-ddca-4c7c-d247-9de23e08ef45"
   },
   "outputs": [
    {
     "data": {
      "text/plain": [
       "['To be clear: I’ve glamped before, and I was an asshole about it.',\n",
       " 'We were invited to an AutoCamp property outside Yosemite National Park a couple years ago, but rather than focus on the sparkling white bathrooms, where I could comfortably bathe my tiny child, or the crisp bed, on which we read her stories about the granite monoliths we’d seen on the Valley floor, I lurked around the property and looked for opportunities to feel superior to my fellow glampers.',\n",
       " 'One particularly shitty text to an old friend read: “I see a John Muir quote in yellow cursive neon lights.',\n",
       " 'Peak irony.”',\n",
       " 'My daughter, however, loved just about every minute of the trip and the comfort the amenities allowed my wife and I to relax into our first Yosemite trip as parents.']"
      ]
     },
     "execution_count": 29,
     "metadata": {},
     "output_type": "execute_result"
    }
   ],
   "source": [
    "# Takes the input paragraph and splits it into a list of sentences\n",
    "from sentence_splitter import SentenceSplitter, split_text_into_sentences\n",
    "\n",
    "splitter = SentenceSplitter(language='en')\n",
    "\n",
    "sentence_list = splitter.split(context)\n",
    "sentence_list"
   ]
  },
  {
   "cell_type": "code",
   "execution_count": 30,
   "metadata": {
    "colab": {
     "base_uri": "https://localhost:8080/"
    },
    "id": "QdE0CH6agx8H",
    "outputId": "44a7c9dd-9080-46f9-953d-7af2bedf6f09"
   },
   "outputs": [],
   "source": [
    "# Do a for loop to iterate through the list of sentences and paraphrase each sentence in the iteration\n",
    "paraphrase = []\n",
    "\n",
    "for i in sentence_list:\n",
    "  a = get_response(i,1)\n",
    "  paraphrase.append(a)"
   ]
  },
  {
   "cell_type": "code",
   "execution_count": 31,
   "metadata": {
    "colab": {
     "base_uri": "https://localhost:8080/"
    },
    "id": "i1zyKct5jM3C",
    "outputId": "4acdc64c-59cb-4369-97c1-1506a8d9fce0"
   },
   "outputs": [
    {
     "data": {
      "text/plain": [
       "[[\"I've done it before, and I was aasshole about it.\"],\n",
       " ['We were invited to a property that can serve several purposes, but rather than focus on the sparkling white bathroom, or the crisp bed, which we can comfortably bathe my child,'],\n",
       " ['In a text to an old friend, I see a John Muir quote in yellow cursive neon lights.'],\n",
       " [\"It's peak irony.\"],\n",
       " ['My daughter loved every minute of the trip, and the comfort the amenities gave us allowed us to relax into our first Yosemite trip as parents, but']]"
      ]
     },
     "execution_count": 31,
     "metadata": {},
     "output_type": "execute_result"
    }
   ],
   "source": [
    "# This is the paraphrased text\n",
    "paraphrase"
   ]
  },
  {
   "cell_type": "code",
   "execution_count": 32,
   "metadata": {
    "colab": {
     "base_uri": "https://localhost:8080/"
    },
    "id": "fSOQwP_hiPjk",
    "outputId": "e5b9261b-07fc-4b47-b889-2ff343bc3f65"
   },
   "outputs": [
    {
     "data": {
      "text/plain": [
       "[\"I've done it before, and I was aasshole about it.\",\n",
       " 'We were invited to a property that can serve several purposes, but rather than focus on the sparkling white bathroom, or the crisp bed, which we can comfortably bathe my child,',\n",
       " 'In a text to an old friend, I see a John Muir quote in yellow cursive neon lights.',\n",
       " \"It's peak irony.\",\n",
       " 'My daughter loved every minute of the trip, and the comfort the amenities gave us allowed us to relax into our first Yosemite trip as parents, but']"
      ]
     },
     "execution_count": 32,
     "metadata": {},
     "output_type": "execute_result"
    }
   ],
   "source": [
    "paraphrase2 = [' '.join(x) for x in paraphrase]\n",
    "paraphrase2"
   ]
  },
  {
   "cell_type": "code",
   "execution_count": 33,
   "metadata": {
    "colab": {
     "base_uri": "https://localhost:8080/",
     "height": 70
    },
    "id": "fJ5tDLzokYCd",
    "outputId": "eca018b6-c0c2-4c6f-db92-5cdc6c56d862"
   },
   "outputs": [
    {
     "data": {
      "text/plain": [
       "'\"I\\'ve done it before, and I was aasshole about it. We were invited to a property that can serve several purposes, but rather than focus on the sparkling white bathroom, or the crisp bed, which we can comfortably bathe my child, In a text to an old friend, I see a John Muir quote in yellow cursive neon lights. It\\'s peak irony. My daughter loved every minute of the trip, and the comfort the amenities gave us allowed us to relax into our first Yosemite trip as parents, but\"'"
      ]
     },
     "execution_count": 33,
     "metadata": {},
     "output_type": "execute_result"
    }
   ],
   "source": [
    "# Combines the above list into a paragraph\n",
    "paraphrase3 = [' '.join(x for x in paraphrase2) ]\n",
    "paraphrased_text = str(paraphrase3).strip('[]').strip(\"'\")\n",
    "paraphrased_text"
   ]
  },
  {
   "cell_type": "code",
   "execution_count": 34,
   "metadata": {},
   "outputs": [
    {
     "name": "stdout",
     "output_type": "stream",
     "text": [
      "To be clear: I’ve glamped before, and I was an asshole about it. We were invited to an AutoCamp property outside Yosemite National Park a couple years ago, but rather than focus on the sparkling white bathrooms, where I could comfortably bathe my tiny child, or the crisp bed, on which we read her stories about the granite monoliths we’d seen on the Valley floor, I lurked around the property and looked for opportunities to feel superior to my fellow glampers. One particularly shitty text to an old friend read: “I see a John Muir quote in yellow cursive neon lights. Peak irony.” My daughter, however, loved just about every minute of the trip and the comfort the amenities allowed my wife and I to relax into our first Yosemite trip as parents.\n",
      "\"I've done it before, and I was aasshole about it. We were invited to a property that can serve several purposes, but rather than focus on the sparkling white bathroom, or the crisp bed, which we can comfortably bathe my child, In a text to an old friend, I see a John Muir quote in yellow cursive neon lights. It's peak irony. My daughter loved every minute of the trip, and the comfort the amenities gave us allowed us to relax into our first Yosemite trip as parents, but\"\n"
     ]
    }
   ],
   "source": [
    "# Comparison of the original (context variable) and the paraphrased version (paraphrase3 variable)\n",
    "\n",
    "print(context)\n",
    "print(paraphrased_text)\n"
   ]
  },
  {
   "cell_type": "code",
   "execution_count": 35,
   "metadata": {
    "colab": {
     "base_uri": "https://localhost:8080/"
    },
    "id": "8XNC-TJQpZWW",
    "outputId": "dd95d96b-9f27-4076-a90e-d4c4f49bd2fe"
   },
   "outputs": [
    {
     "name": "stdout",
     "output_type": "stream",
     "text": [
      "I've done it before, and I was aasshole about it. We were invited to a property that can serve several purposes, but rather than focus on the sparkling white bathroom, or the crisp bed, which we can comfortably bathe my child, In a text to an old friend, I see a John Muir quote in yellow cursive neon lights. It's peak irony. My daughter loved every minute of the trip, and the comfort the amenities gave us allowed us to relax into our first Yosemite trip as parents, but\n"
     ]
    }
   ],
   "source": [
    "# paraphrased_text = paraphrased_text.replace(\"'\", \"\")\n",
    "paraphrased_text= paraphrased_text.strip('\"')\n",
    "print(paraphrased_text)"
   ]
  },
  {
   "cell_type": "code",
   "execution_count": 71,
   "metadata": {},
   "outputs": [],
   "source": [
    "#This is new addition\n",
    "context = paraphrased_text"
   ]
  },
  {
   "cell_type": "code",
   "execution_count": null,
   "metadata": {},
   "outputs": [],
   "source": []
  },
  {
   "cell_type": "code",
   "execution_count": null,
   "metadata": {},
   "outputs": [],
   "source": []
  },
  {
   "cell_type": "code",
   "execution_count": 96,
   "metadata": {},
   "outputs": [],
   "source": [
    "from transformers import AutoTokenizer, AutoModelForSeq2SeqLM\n",
    "\n",
    "tokenizer1 = AutoTokenizer.from_pretrained(\"prithivida/parrot_paraphraser_on_T5\")\n",
    "\n",
    "model1 = AutoModelForSeq2SeqLM.from_pretrained(\"prithivida/parrot_paraphraser_on_T5\")"
   ]
  },
  {
   "cell_type": "code",
   "execution_count": 97,
   "metadata": {},
   "outputs": [],
   "source": [
    "def get_responses(input_text,num_return_sequences):\n",
    "  batch = tokenizer1.prepare_seq2seq_batch([input_text],truncation=True,padding='longest',max_length=60, return_tensors=\"pt\").to(torch_device)\n",
    "  translated = model1.generate(**batch,max_length=60,num_beams=10, num_return_sequences=num_return_sequences, temperature=1.5)\n",
    "  tgt_text = tokenizer1.batch_decode(translated, skip_special_tokens=True)\n",
    "  return tgt_text"
   ]
  },
  {
   "cell_type": "code",
   "execution_count": 99,
   "metadata": {},
   "outputs": [],
   "source": [
    "context = \"Gardeners often find it hard to talk about their gardens. I'm a bit like that, though give me a cat audience and I'll expound eloquently on any gardening topic. A bit shy, and too much to say - I guess those are the reasons why I love writing about the garden so much. My gardening articles contain a mixture of garden realities and spiritual philosophies, personal memories, hopes for the future, showing my many gardening moods and my gardening ego (fragile at times). I've been working in my garden for eighteen years now. I'm always thinking about the garden, working or relaxing in it, or staring at the trees or borders out the house windows. I really am so very lucky, and I hope you enjoy reading the gardening articles I've written.\""
   ]
  },
  {
   "cell_type": "code",
   "execution_count": 100,
   "metadata": {},
   "outputs": [
    {
     "data": {
      "text/plain": [
       "['Gardeners often find it hard to talk about their gardens.',\n",
       " \"I'm a bit like that, though give me a cat audience and I'll expound eloquently on any gardening topic.\",\n",
       " 'A bit shy, and too much to say - I guess those are the reasons why I love writing about the garden so much.',\n",
       " 'My gardening articles contain a mixture of garden realities and spiritual philosophies, personal memories, hopes for the future, showing my many gardening moods and my gardening ego (fragile at times).',\n",
       " \"I've been working in my garden for eighteen years now.\",\n",
       " \"I'm always thinking about the garden, working or relaxing in it, or staring at the trees or borders out the house windows.\",\n",
       " \"I really am so very lucky, and I hope you enjoy reading the gardening articles I've written.\"]"
      ]
     },
     "execution_count": 100,
     "metadata": {},
     "output_type": "execute_result"
    }
   ],
   "source": [
    "from sentence_splitter import SentenceSplitter, split_text_into_sentences\n",
    "\n",
    "splitter = SentenceSplitter(language='en')\n",
    "\n",
    "sentence_list = splitter.split(context)\n",
    "sentence_list"
   ]
  },
  {
   "cell_type": "code",
   "execution_count": 101,
   "metadata": {},
   "outputs": [],
   "source": [
    "paraphrase_p = []\n",
    "\n",
    "for i in sentence_list:\n",
    "  a = get_responses(i,1)\n",
    "  paraphrase_p.append(a)"
   ]
  },
  {
   "cell_type": "code",
   "execution_count": 102,
   "metadata": {},
   "outputs": [
    {
     "data": {
      "text/plain": [
       "[['Gardeners often find it hard to talk about their gardens.'],\n",
       " [\"I'm a little like that, though give me a cat audience and I'll expound eloquently on any gardening topic.\"],\n",
       " [\"A little shy and too much to say - I guess that's the reason why I love writing about the garden so much.\"],\n",
       " ['My gardening articles contain a mixture of garden realities and spiritual philosophies, personal memories, hopes for the future showing my many gardening moods and my gardening ego (fragile at times).'],\n",
       " [\"I've been working in my garden for 18 years now.\"],\n",
       " [\"I'm always thinking about the garden, working or relaxing in it or staring at the trees or the borders out the house windows.\"],\n",
       " [\"I really am so lucky and I hope you enjoy reading the gardening articles I've written.\"]]"
      ]
     },
     "execution_count": 102,
     "metadata": {},
     "output_type": "execute_result"
    }
   ],
   "source": [
    "paraphrase_p"
   ]
  },
  {
   "cell_type": "code",
   "execution_count": 105,
   "metadata": {},
   "outputs": [
    {
     "name": "stdout",
     "output_type": "stream",
     "text": [
      "\"Gardeners often find it hard to talk about their gardens. I'm a little like that, though give me a cat audience and I'll expound eloquently on any gardening topic. A little shy and too much to say - I guess that's the reason why I love writing about the garden so much. My gardening articles contain a mixture of garden realities and spiritual philosophies, personal memories, hopes for the future showing my many gardening moods and my gardening ego (fragile at times). I've been working in my garden for 18 years now. I'm always thinking about the garden, working or relaxing in it or staring at the trees or the borders out the house windows. I really am so lucky and I hope you enjoy reading the gardening articles I've written.\"\n"
     ]
    }
   ],
   "source": [
    "paraphrase2 = [' '.join(x) for x in paraphrase_p]\n",
    "paraphrase3 = [' '.join(x for x in paraphrase2) ]\n",
    "paraphrased_text = str(paraphrase3).strip('[]').strip(\"'\")\n",
    "print(paraphrased_text)"
   ]
  },
  {
   "cell_type": "code",
   "execution_count": null,
   "metadata": {},
   "outputs": [],
   "source": []
  }
 ],
 "metadata": {
  "accelerator": "GPU",
  "colab": {
   "collapsed_sections": [],
   "name": "transformer_pegasus_paraphrase.ipynb",
   "provenance": []
  },
  "kernelspec": {
   "display_name": "Python 3 (ipykernel)",
   "language": "python",
   "name": "python3"
  },
  "language_info": {
   "codemirror_mode": {
    "name": "ipython",
    "version": 3
   },
   "file_extension": ".py",
   "mimetype": "text/x-python",
   "name": "python",
   "nbconvert_exporter": "python",
   "pygments_lexer": "ipython3",
   "version": "3.7.0"
  },
  "widgets": {
   "application/vnd.jupyter.widget-state+json": {
    "02ad3e7df3d64bbc8b1ae397e12162f3": {
     "model_module": "@jupyter-widgets/controls",
     "model_name": "ProgressStyleModel",
     "state": {
      "_model_module": "@jupyter-widgets/controls",
      "_model_module_version": "1.5.0",
      "_model_name": "ProgressStyleModel",
      "_view_count": null,
      "_view_module": "@jupyter-widgets/base",
      "_view_module_version": "1.2.0",
      "_view_name": "StyleView",
      "bar_color": null,
      "description_width": "initial"
     }
    },
    "063b18d513424f1183737e93c264cb8f": {
     "model_module": "@jupyter-widgets/controls",
     "model_name": "HBoxModel",
     "state": {
      "_dom_classes": [],
      "_model_module": "@jupyter-widgets/controls",
      "_model_module_version": "1.5.0",
      "_model_name": "HBoxModel",
      "_view_count": null,
      "_view_module": "@jupyter-widgets/controls",
      "_view_module_version": "1.5.0",
      "_view_name": "HBoxView",
      "box_style": "",
      "children": [
       "IPY_MODEL_957e5d06b761440ab3d00478b11d547a",
       "IPY_MODEL_632c106781594f1db82f272b34d3c3f4"
      ],
      "layout": "IPY_MODEL_5d0db7a84da44349a277cba30148c4d7"
     }
    },
    "1830e657159044b3ba9d411136f0f90d": {
     "model_module": "@jupyter-widgets/base",
     "model_name": "LayoutModel",
     "state": {
      "_model_module": "@jupyter-widgets/base",
      "_model_module_version": "1.2.0",
      "_model_name": "LayoutModel",
      "_view_count": null,
      "_view_module": "@jupyter-widgets/base",
      "_view_module_version": "1.2.0",
      "_view_name": "LayoutView",
      "align_content": null,
      "align_items": null,
      "align_self": null,
      "border": null,
      "bottom": null,
      "display": null,
      "flex": null,
      "flex_flow": null,
      "grid_area": null,
      "grid_auto_columns": null,
      "grid_auto_flow": null,
      "grid_auto_rows": null,
      "grid_column": null,
      "grid_gap": null,
      "grid_row": null,
      "grid_template_areas": null,
      "grid_template_columns": null,
      "grid_template_rows": null,
      "height": null,
      "justify_content": null,
      "justify_items": null,
      "left": null,
      "margin": null,
      "max_height": null,
      "max_width": null,
      "min_height": null,
      "min_width": null,
      "object_fit": null,
      "object_position": null,
      "order": null,
      "overflow": null,
      "overflow_x": null,
      "overflow_y": null,
      "padding": null,
      "right": null,
      "top": null,
      "visibility": null,
      "width": null
     }
    },
    "2f6a0ab725334895bff8f5524a2c22f5": {
     "model_module": "@jupyter-widgets/base",
     "model_name": "LayoutModel",
     "state": {
      "_model_module": "@jupyter-widgets/base",
      "_model_module_version": "1.2.0",
      "_model_name": "LayoutModel",
      "_view_count": null,
      "_view_module": "@jupyter-widgets/base",
      "_view_module_version": "1.2.0",
      "_view_name": "LayoutView",
      "align_content": null,
      "align_items": null,
      "align_self": null,
      "border": null,
      "bottom": null,
      "display": null,
      "flex": null,
      "flex_flow": null,
      "grid_area": null,
      "grid_auto_columns": null,
      "grid_auto_flow": null,
      "grid_auto_rows": null,
      "grid_column": null,
      "grid_gap": null,
      "grid_row": null,
      "grid_template_areas": null,
      "grid_template_columns": null,
      "grid_template_rows": null,
      "height": null,
      "justify_content": null,
      "justify_items": null,
      "left": null,
      "margin": null,
      "max_height": null,
      "max_width": null,
      "min_height": null,
      "min_width": null,
      "object_fit": null,
      "object_position": null,
      "order": null,
      "overflow": null,
      "overflow_x": null,
      "overflow_y": null,
      "padding": null,
      "right": null,
      "top": null,
      "visibility": null,
      "width": null
     }
    },
    "4b1be8cc3c5c40ec9deeb75200a3a7f3": {
     "model_module": "@jupyter-widgets/controls",
     "model_name": "HTMLModel",
     "state": {
      "_dom_classes": [],
      "_model_module": "@jupyter-widgets/controls",
      "_model_module_version": "1.5.0",
      "_model_name": "HTMLModel",
      "_view_count": null,
      "_view_module": "@jupyter-widgets/controls",
      "_view_module_version": "1.5.0",
      "_view_name": "HTMLView",
      "description": "",
      "description_tooltip": null,
      "layout": "IPY_MODEL_50f97ea6b61c47b0b152a5b5fefea06a",
      "placeholder": "​",
      "style": "IPY_MODEL_a24d51573d594fb2a2cd1b3c5f8f4dd4",
      "value": " 1.91M/1.91M [00:39&lt;00:00, 47.8kB/s]"
     }
    },
    "501b90a0a74041189e38c080eebae9eb": {
     "model_module": "@jupyter-widgets/base",
     "model_name": "LayoutModel",
     "state": {
      "_model_module": "@jupyter-widgets/base",
      "_model_module_version": "1.2.0",
      "_model_name": "LayoutModel",
      "_view_count": null,
      "_view_module": "@jupyter-widgets/base",
      "_view_module_version": "1.2.0",
      "_view_name": "LayoutView",
      "align_content": null,
      "align_items": null,
      "align_self": null,
      "border": null,
      "bottom": null,
      "display": null,
      "flex": null,
      "flex_flow": null,
      "grid_area": null,
      "grid_auto_columns": null,
      "grid_auto_flow": null,
      "grid_auto_rows": null,
      "grid_column": null,
      "grid_gap": null,
      "grid_row": null,
      "grid_template_areas": null,
      "grid_template_columns": null,
      "grid_template_rows": null,
      "height": null,
      "justify_content": null,
      "justify_items": null,
      "left": null,
      "margin": null,
      "max_height": null,
      "max_width": null,
      "min_height": null,
      "min_width": null,
      "object_fit": null,
      "object_position": null,
      "order": null,
      "overflow": null,
      "overflow_x": null,
      "overflow_y": null,
      "padding": null,
      "right": null,
      "top": null,
      "visibility": null,
      "width": null
     }
    },
    "50f97ea6b61c47b0b152a5b5fefea06a": {
     "model_module": "@jupyter-widgets/base",
     "model_name": "LayoutModel",
     "state": {
      "_model_module": "@jupyter-widgets/base",
      "_model_module_version": "1.2.0",
      "_model_name": "LayoutModel",
      "_view_count": null,
      "_view_module": "@jupyter-widgets/base",
      "_view_module_version": "1.2.0",
      "_view_name": "LayoutView",
      "align_content": null,
      "align_items": null,
      "align_self": null,
      "border": null,
      "bottom": null,
      "display": null,
      "flex": null,
      "flex_flow": null,
      "grid_area": null,
      "grid_auto_columns": null,
      "grid_auto_flow": null,
      "grid_auto_rows": null,
      "grid_column": null,
      "grid_gap": null,
      "grid_row": null,
      "grid_template_areas": null,
      "grid_template_columns": null,
      "grid_template_rows": null,
      "height": null,
      "justify_content": null,
      "justify_items": null,
      "left": null,
      "margin": null,
      "max_height": null,
      "max_width": null,
      "min_height": null,
      "min_width": null,
      "object_fit": null,
      "object_position": null,
      "order": null,
      "overflow": null,
      "overflow_x": null,
      "overflow_y": null,
      "padding": null,
      "right": null,
      "top": null,
      "visibility": null,
      "width": null
     }
    },
    "553bd1a9e5c745629a51d0b2b03bf16e": {
     "model_module": "@jupyter-widgets/controls",
     "model_name": "ProgressStyleModel",
     "state": {
      "_model_module": "@jupyter-widgets/controls",
      "_model_module_version": "1.5.0",
      "_model_name": "ProgressStyleModel",
      "_view_count": null,
      "_view_module": "@jupyter-widgets/base",
      "_view_module_version": "1.2.0",
      "_view_name": "StyleView",
      "bar_color": null,
      "description_width": "initial"
     }
    },
    "580961e7e8584b868d427cf672078674": {
     "model_module": "@jupyter-widgets/base",
     "model_name": "LayoutModel",
     "state": {
      "_model_module": "@jupyter-widgets/base",
      "_model_module_version": "1.2.0",
      "_model_name": "LayoutModel",
      "_view_count": null,
      "_view_module": "@jupyter-widgets/base",
      "_view_module_version": "1.2.0",
      "_view_name": "LayoutView",
      "align_content": null,
      "align_items": null,
      "align_self": null,
      "border": null,
      "bottom": null,
      "display": null,
      "flex": null,
      "flex_flow": null,
      "grid_area": null,
      "grid_auto_columns": null,
      "grid_auto_flow": null,
      "grid_auto_rows": null,
      "grid_column": null,
      "grid_gap": null,
      "grid_row": null,
      "grid_template_areas": null,
      "grid_template_columns": null,
      "grid_template_rows": null,
      "height": null,
      "justify_content": null,
      "justify_items": null,
      "left": null,
      "margin": null,
      "max_height": null,
      "max_width": null,
      "min_height": null,
      "min_width": null,
      "object_fit": null,
      "object_position": null,
      "order": null,
      "overflow": null,
      "overflow_x": null,
      "overflow_y": null,
      "padding": null,
      "right": null,
      "top": null,
      "visibility": null,
      "width": null
     }
    },
    "5d0db7a84da44349a277cba30148c4d7": {
     "model_module": "@jupyter-widgets/base",
     "model_name": "LayoutModel",
     "state": {
      "_model_module": "@jupyter-widgets/base",
      "_model_module_version": "1.2.0",
      "_model_name": "LayoutModel",
      "_view_count": null,
      "_view_module": "@jupyter-widgets/base",
      "_view_module_version": "1.2.0",
      "_view_name": "LayoutView",
      "align_content": null,
      "align_items": null,
      "align_self": null,
      "border": null,
      "bottom": null,
      "display": null,
      "flex": null,
      "flex_flow": null,
      "grid_area": null,
      "grid_auto_columns": null,
      "grid_auto_flow": null,
      "grid_auto_rows": null,
      "grid_column": null,
      "grid_gap": null,
      "grid_row": null,
      "grid_template_areas": null,
      "grid_template_columns": null,
      "grid_template_rows": null,
      "height": null,
      "justify_content": null,
      "justify_items": null,
      "left": null,
      "margin": null,
      "max_height": null,
      "max_width": null,
      "min_height": null,
      "min_width": null,
      "object_fit": null,
      "object_position": null,
      "order": null,
      "overflow": null,
      "overflow_x": null,
      "overflow_y": null,
      "padding": null,
      "right": null,
      "top": null,
      "visibility": null,
      "width": null
     }
    },
    "632c106781594f1db82f272b34d3c3f4": {
     "model_module": "@jupyter-widgets/controls",
     "model_name": "HTMLModel",
     "state": {
      "_dom_classes": [],
      "_model_module": "@jupyter-widgets/controls",
      "_model_module_version": "1.5.0",
      "_model_name": "HTMLModel",
      "_view_count": null,
      "_view_module": "@jupyter-widgets/controls",
      "_view_module_version": "1.5.0",
      "_view_name": "HTMLView",
      "description": "",
      "description_tooltip": null,
      "layout": "IPY_MODEL_1830e657159044b3ba9d411136f0f90d",
      "placeholder": "​",
      "style": "IPY_MODEL_6dcab5852f99408ba1e177185843fa6b",
      "value": " 65.0/65.0 [00:00&lt;00:00, 749B/s]"
     }
    },
    "6d323ec59a304e8abb1ed5fc58159505": {
     "model_module": "@jupyter-widgets/base",
     "model_name": "LayoutModel",
     "state": {
      "_model_module": "@jupyter-widgets/base",
      "_model_module_version": "1.2.0",
      "_model_name": "LayoutModel",
      "_view_count": null,
      "_view_module": "@jupyter-widgets/base",
      "_view_module_version": "1.2.0",
      "_view_name": "LayoutView",
      "align_content": null,
      "align_items": null,
      "align_self": null,
      "border": null,
      "bottom": null,
      "display": null,
      "flex": null,
      "flex_flow": null,
      "grid_area": null,
      "grid_auto_columns": null,
      "grid_auto_flow": null,
      "grid_auto_rows": null,
      "grid_column": null,
      "grid_gap": null,
      "grid_row": null,
      "grid_template_areas": null,
      "grid_template_columns": null,
      "grid_template_rows": null,
      "height": null,
      "justify_content": null,
      "justify_items": null,
      "left": null,
      "margin": null,
      "max_height": null,
      "max_width": null,
      "min_height": null,
      "min_width": null,
      "object_fit": null,
      "object_position": null,
      "order": null,
      "overflow": null,
      "overflow_x": null,
      "overflow_y": null,
      "padding": null,
      "right": null,
      "top": null,
      "visibility": null,
      "width": null
     }
    },
    "6dcab5852f99408ba1e177185843fa6b": {
     "model_module": "@jupyter-widgets/controls",
     "model_name": "DescriptionStyleModel",
     "state": {
      "_model_module": "@jupyter-widgets/controls",
      "_model_module_version": "1.5.0",
      "_model_name": "DescriptionStyleModel",
      "_view_count": null,
      "_view_module": "@jupyter-widgets/base",
      "_view_module_version": "1.2.0",
      "_view_name": "StyleView",
      "description_width": ""
     }
    },
    "704b994e029c4cdd93e0ecda3726d607": {
     "model_module": "@jupyter-widgets/controls",
     "model_name": "FloatProgressModel",
     "state": {
      "_dom_classes": [],
      "_model_module": "@jupyter-widgets/controls",
      "_model_module_version": "1.5.0",
      "_model_name": "FloatProgressModel",
      "_view_count": null,
      "_view_module": "@jupyter-widgets/controls",
      "_view_module_version": "1.5.0",
      "_view_name": "ProgressView",
      "bar_style": "success",
      "description": "Downloading: 100%",
      "description_tooltip": null,
      "layout": "IPY_MODEL_904e9bbc2fed482e84a02299e9762fe9",
      "max": 1912529,
      "min": 0,
      "orientation": "horizontal",
      "style": "IPY_MODEL_a503070cc2a646d5879a3339cebaf3a7",
      "value": 1912529
     }
    },
    "8f516d93300d49cbad04a67e1be9d32b": {
     "model_module": "@jupyter-widgets/controls",
     "model_name": "HBoxModel",
     "state": {
      "_dom_classes": [],
      "_model_module": "@jupyter-widgets/controls",
      "_model_module_version": "1.5.0",
      "_model_name": "HBoxModel",
      "_view_count": null,
      "_view_module": "@jupyter-widgets/controls",
      "_view_module_version": "1.5.0",
      "_view_name": "HBoxView",
      "box_style": "",
      "children": [
       "IPY_MODEL_704b994e029c4cdd93e0ecda3726d607",
       "IPY_MODEL_4b1be8cc3c5c40ec9deeb75200a3a7f3"
      ],
      "layout": "IPY_MODEL_580961e7e8584b868d427cf672078674"
     }
    },
    "904e9bbc2fed482e84a02299e9762fe9": {
     "model_module": "@jupyter-widgets/base",
     "model_name": "LayoutModel",
     "state": {
      "_model_module": "@jupyter-widgets/base",
      "_model_module_version": "1.2.0",
      "_model_name": "LayoutModel",
      "_view_count": null,
      "_view_module": "@jupyter-widgets/base",
      "_view_module_version": "1.2.0",
      "_view_name": "LayoutView",
      "align_content": null,
      "align_items": null,
      "align_self": null,
      "border": null,
      "bottom": null,
      "display": null,
      "flex": null,
      "flex_flow": null,
      "grid_area": null,
      "grid_auto_columns": null,
      "grid_auto_flow": null,
      "grid_auto_rows": null,
      "grid_column": null,
      "grid_gap": null,
      "grid_row": null,
      "grid_template_areas": null,
      "grid_template_columns": null,
      "grid_template_rows": null,
      "height": null,
      "justify_content": null,
      "justify_items": null,
      "left": null,
      "margin": null,
      "max_height": null,
      "max_width": null,
      "min_height": null,
      "min_width": null,
      "object_fit": null,
      "object_position": null,
      "order": null,
      "overflow": null,
      "overflow_x": null,
      "overflow_y": null,
      "padding": null,
      "right": null,
      "top": null,
      "visibility": null,
      "width": null
     }
    },
    "957e5d06b761440ab3d00478b11d547a": {
     "model_module": "@jupyter-widgets/controls",
     "model_name": "FloatProgressModel",
     "state": {
      "_dom_classes": [],
      "_model_module": "@jupyter-widgets/controls",
      "_model_module_version": "1.5.0",
      "_model_name": "FloatProgressModel",
      "_view_count": null,
      "_view_module": "@jupyter-widgets/controls",
      "_view_module_version": "1.5.0",
      "_view_name": "ProgressView",
      "bar_style": "success",
      "description": "Downloading: 100%",
      "description_tooltip": null,
      "layout": "IPY_MODEL_2f6a0ab725334895bff8f5524a2c22f5",
      "max": 65,
      "min": 0,
      "orientation": "horizontal",
      "style": "IPY_MODEL_553bd1a9e5c745629a51d0b2b03bf16e",
      "value": 65
     }
    },
    "a24d51573d594fb2a2cd1b3c5f8f4dd4": {
     "model_module": "@jupyter-widgets/controls",
     "model_name": "DescriptionStyleModel",
     "state": {
      "_model_module": "@jupyter-widgets/controls",
      "_model_module_version": "1.5.0",
      "_model_name": "DescriptionStyleModel",
      "_view_count": null,
      "_view_module": "@jupyter-widgets/base",
      "_view_module_version": "1.2.0",
      "_view_name": "StyleView",
      "description_width": ""
     }
    },
    "a35b8a96d72d4c7e881bc9a696e13835": {
     "model_module": "@jupyter-widgets/controls",
     "model_name": "HTMLModel",
     "state": {
      "_dom_classes": [],
      "_model_module": "@jupyter-widgets/controls",
      "_model_module_version": "1.5.0",
      "_model_name": "HTMLModel",
      "_view_count": null,
      "_view_module": "@jupyter-widgets/controls",
      "_view_module_version": "1.5.0",
      "_view_name": "HTMLView",
      "description": "",
      "description_tooltip": null,
      "layout": "IPY_MODEL_6d323ec59a304e8abb1ed5fc58159505",
      "placeholder": "​",
      "style": "IPY_MODEL_d1903fc67e9a4ae288ea933dc2f632d7",
      "value": " 86.0/86.0 [00:01&lt;00:00, 50.5B/s]"
     }
    },
    "a503070cc2a646d5879a3339cebaf3a7": {
     "model_module": "@jupyter-widgets/controls",
     "model_name": "ProgressStyleModel",
     "state": {
      "_model_module": "@jupyter-widgets/controls",
      "_model_module_version": "1.5.0",
      "_model_name": "ProgressStyleModel",
      "_view_count": null,
      "_view_module": "@jupyter-widgets/base",
      "_view_module_version": "1.2.0",
      "_view_name": "StyleView",
      "bar_color": null,
      "description_width": "initial"
     }
    },
    "d1903fc67e9a4ae288ea933dc2f632d7": {
     "model_module": "@jupyter-widgets/controls",
     "model_name": "DescriptionStyleModel",
     "state": {
      "_model_module": "@jupyter-widgets/controls",
      "_model_module_version": "1.5.0",
      "_model_name": "DescriptionStyleModel",
      "_view_count": null,
      "_view_module": "@jupyter-widgets/base",
      "_view_module_version": "1.2.0",
      "_view_name": "StyleView",
      "description_width": ""
     }
    },
    "dc0db6639cc64b3daed8149ca090a978": {
     "model_module": "@jupyter-widgets/controls",
     "model_name": "FloatProgressModel",
     "state": {
      "_dom_classes": [],
      "_model_module": "@jupyter-widgets/controls",
      "_model_module_version": "1.5.0",
      "_model_name": "FloatProgressModel",
      "_view_count": null,
      "_view_module": "@jupyter-widgets/controls",
      "_view_module_version": "1.5.0",
      "_view_name": "ProgressView",
      "bar_style": "success",
      "description": "Downloading: 100%",
      "description_tooltip": null,
      "layout": "IPY_MODEL_fb9c5b1db4bb49eeb640a2a24d9b17a6",
      "max": 86,
      "min": 0,
      "orientation": "horizontal",
      "style": "IPY_MODEL_02ad3e7df3d64bbc8b1ae397e12162f3",
      "value": 86
     }
    },
    "ec24a0e1eb0b4e57987d0610c2941d71": {
     "model_module": "@jupyter-widgets/controls",
     "model_name": "HBoxModel",
     "state": {
      "_dom_classes": [],
      "_model_module": "@jupyter-widgets/controls",
      "_model_module_version": "1.5.0",
      "_model_name": "HBoxModel",
      "_view_count": null,
      "_view_module": "@jupyter-widgets/controls",
      "_view_module_version": "1.5.0",
      "_view_name": "HBoxView",
      "box_style": "",
      "children": [
       "IPY_MODEL_dc0db6639cc64b3daed8149ca090a978",
       "IPY_MODEL_a35b8a96d72d4c7e881bc9a696e13835"
      ],
      "layout": "IPY_MODEL_501b90a0a74041189e38c080eebae9eb"
     }
    },
    "fb9c5b1db4bb49eeb640a2a24d9b17a6": {
     "model_module": "@jupyter-widgets/base",
     "model_name": "LayoutModel",
     "state": {
      "_model_module": "@jupyter-widgets/base",
      "_model_module_version": "1.2.0",
      "_model_name": "LayoutModel",
      "_view_count": null,
      "_view_module": "@jupyter-widgets/base",
      "_view_module_version": "1.2.0",
      "_view_name": "LayoutView",
      "align_content": null,
      "align_items": null,
      "align_self": null,
      "border": null,
      "bottom": null,
      "display": null,
      "flex": null,
      "flex_flow": null,
      "grid_area": null,
      "grid_auto_columns": null,
      "grid_auto_flow": null,
      "grid_auto_rows": null,
      "grid_column": null,
      "grid_gap": null,
      "grid_row": null,
      "grid_template_areas": null,
      "grid_template_columns": null,
      "grid_template_rows": null,
      "height": null,
      "justify_content": null,
      "justify_items": null,
      "left": null,
      "margin": null,
      "max_height": null,
      "max_width": null,
      "min_height": null,
      "min_width": null,
      "object_fit": null,
      "object_position": null,
      "order": null,
      "overflow": null,
      "overflow_x": null,
      "overflow_y": null,
      "padding": null,
      "right": null,
      "top": null,
      "visibility": null,
      "width": null
     }
    }
   }
  }
 },
 "nbformat": 4,
 "nbformat_minor": 4
}
